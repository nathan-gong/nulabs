{
 "cells": [
  {
   "cell_type": "code",
   "execution_count": null,
   "metadata": {},
   "outputs": [],
   "source": [
    "import pandas as pd"
   ]
  },
  {
   "cell_type": "markdown",
   "metadata": {},
   "source": [
    "MySQL's built-in Table Data Import Wizard tool has trouble correctly parsing the csv files.\n",
    "This script will convert the data in the csv files into a series of SQL Insert statements \n",
    "that can be copy-pasted into the MySQL Workbench and executed to insert the data into\n",
    "their corresponding tables in the nulabs schema. "
   ]
  },
  {
   "cell_type": "code",
   "execution_count": null,
   "metadata": {},
   "outputs": [],
   "source": [
    "# read the utf8-encoded csv files\n",
    "publication = pd.read_csv('publication1.csv')\n",
    "building = pd.read_csv('building1.csv')\n",
    "college = pd.read_csv('college1.csv')\n",
    "conducts = pd.read_csv('conducts1.csv')\n",
    "lab_member = pd.read_csv('lab_member1.csv')\n",
    "lab = pd.read_csv('lab1.csv')\n",
    "pi = pd.read_csv('pi1.csv')\n",
    "project = pd.read_csv('project1.csv')\n",
    "results_in = pd.read_csv('results_in1.csv')\n",
    "administrator = pd.read_csv('administrator1.csv')"
   ]
  },
  {
   "cell_type": "markdown",
   "metadata": {},
   "source": [
    "## Building"
   ]
  },
  {
   "cell_type": "code",
   "execution_count": null,
   "metadata": {},
   "outputs": [],
   "source": [
    "building"
   ]
  },
  {
   "cell_type": "code",
   "execution_count": null,
   "metadata": {},
   "outputs": [],
   "source": [
    "for i in building.index:\n",
    "    print(\"INSERT INTO {} values ('{}', '{}', '{}');\"\n",
    "          .format('building', \n",
    "                  building['name'][i], \n",
    "                  building['street'][i],\n",
    "                  building['college_name'][i]))"
   ]
  },
  {
   "cell_type": "markdown",
   "metadata": {},
   "source": [
    "## College"
   ]
  },
  {
   "cell_type": "code",
   "execution_count": null,
   "metadata": {},
   "outputs": [],
   "source": [
    "for i in college.index:\n",
    "    print(\"INSERT INTO {} values ('{}');\"\n",
    "          .format('college', \n",
    "                  college['Cllegename'][i]))"
   ]
  },
  {
   "cell_type": "markdown",
   "metadata": {},
   "source": [
    "## Conducts"
   ]
  },
  {
   "cell_type": "code",
   "execution_count": null,
   "metadata": {},
   "outputs": [],
   "source": [
    "for i in conducts.index:\n",
    "    if(conducts['Lab'][i] in valid_labs):\n",
    "        print(\"INSERT INTO {} values ('{}', '{}', '{}');\"\n",
    "              .format('conducts', \n",
    "                      conducts['LabMember'][i],\n",
    "                      conducts['Project'][i], \n",
    "                      conducts['Lab'][i]))"
   ]
  },
  {
   "cell_type": "markdown",
   "metadata": {},
   "source": [
    "## Lab_member"
   ]
  },
  {
   "cell_type": "code",
   "execution_count": null,
   "metadata": {},
   "outputs": [],
   "source": [
    "for i in lab_member.index:\n",
    "    #if(lab_member['lab they work in'][i] in valid_labs):\n",
    "        print(\"INSERT INTO {} values ('{}', '{}', '{}', '{}', '{}');\"\n",
    "              .format('lab_member', \n",
    "                      lab_member['userName'][i],\n",
    "                      lab_member['firstName'][i], \n",
    "                      lab_member['lastName'][i],\n",
    "                      lab_member['degreeLevel'][i],\n",
    "                      lab_member['lab they work in'][i]))"
   ]
  },
  {
   "cell_type": "markdown",
   "metadata": {},
   "source": [
    "## Lab"
   ]
  },
  {
   "cell_type": "code",
   "execution_count": null,
   "metadata": {},
   "outputs": [],
   "source": [
    "valid_labs = []\n",
    "for i in lab.index:\n",
    "    b = lab['building_name'][i]\n",
    "    #if not(pd.isna(lab['building_name'][i])):\n",
    "      #  valid_labs.append(lab['name'][i])\n",
    "    print(\"INSERT INTO {} values ('{}', '{}', '{}', '{}', '{}', '{}');\"\n",
    "              .format('lab', \n",
    "                      lab['name'][i],\n",
    "                      lab['lab_description'][i], \n",
    "                      lab['website'][i],\n",
    "                      lab['recruitingStatus'][i],\n",
    "                      lab['department'][i], b))"
   ]
  },
  {
   "cell_type": "markdown",
   "metadata": {},
   "source": [
    "## PI"
   ]
  },
  {
   "cell_type": "code",
   "execution_count": null,
   "metadata": {},
   "outputs": [],
   "source": [
    "for i in pi.index:\n",
    "    if(pi['lab_name'][i] in valid_labs):\n",
    "        print(\"INSERT INTO {} values ('{}', '{}');\"\n",
    "              .format('pi', \n",
    "                      pi['username'][i],\n",
    "                     pi['lab_name'][i]))"
   ]
  },
  {
   "cell_type": "markdown",
   "metadata": {},
   "source": [
    "## Project"
   ]
  },
  {
   "cell_type": "code",
   "execution_count": null,
   "metadata": {},
   "outputs": [],
   "source": [
    "valid_projects=[]\n",
    "for i in project.index:\n",
    "    if(project['lab'][i] in valid_labs):\n",
    "        valid_projects.append(project['title'][i])\n",
    "        print(\"INSERT INTO {} values ('{}', '{}', '{}');\"\n",
    "              .format('project', \n",
    "                      project['title'][i],\n",
    "                     project['description'][i], \n",
    "                     project['lab'][i]))"
   ]
  },
  {
   "cell_type": "markdown",
   "metadata": {},
   "source": [
    "## Results_In"
   ]
  },
  {
   "cell_type": "code",
   "execution_count": null,
   "metadata": {},
   "outputs": [],
   "source": [
    "results_in\n",
    "for i in results_in.index:\n",
    "    if(results_in['Project'][i] in valid_projects):\n",
    "        print(\"INSERT INTO {} values ('{}', '{}');\"\n",
    "              .format('results_in', \n",
    "                      results_in['Project'][i],\n",
    "                     results_in['Publication'][i]))"
   ]
  },
  {
   "cell_type": "markdown",
   "metadata": {},
   "source": [
    "## Publication"
   ]
  },
  {
   "cell_type": "markdown",
   "metadata": {},
   "source": [
    "for i in publication.index:\n",
    "    print(\"INSERT INTO {} values ('{}', '{}', {}, '{}');\"\n",
    "          .format('publication', \n",
    "                  publication['DOI'][i], \n",
    "                  publication['title'][i], \n",
    "                  publication['publishDate'][i], \n",
    "                  publication['journal'][i]))"
   ]
  },
  {
   "cell_type": "markdown",
   "metadata": {},
   "source": [
    "## Administrator"
   ]
  },
  {
   "cell_type": "code",
   "execution_count": null,
   "metadata": {},
   "outputs": [],
   "source": [
    "for i in administrator.index:\n",
    "    print(\"INSERT INTO {} values ('{}', '{}');\"\n",
    "          .format('administrator', \n",
    "                  administrator['username'][i], \n",
    "                  administrator['college_name'][i]))"
   ]
  },
  {
   "cell_type": "code",
   "execution_count": null,
   "metadata": {},
   "outputs": [],
   "source": []
  }
 ],
 "metadata": {
  "kernelspec": {
   "display_name": "Python 3",
   "language": "python",
   "name": "python3"
  },
  "language_info": {
   "codemirror_mode": {
    "name": "ipython",
    "version": 3
   },
   "file_extension": ".py",
   "mimetype": "text/x-python",
   "name": "python",
   "nbconvert_exporter": "python",
   "pygments_lexer": "ipython3",
   "version": "3.8.1"
  }
 },
 "nbformat": 4,
 "nbformat_minor": 4
}
